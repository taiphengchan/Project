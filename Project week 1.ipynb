{
 "cells": [
  {
   "cell_type": "markdown",
   "metadata": {},
   "source": [
    "# Capstone Project - The Battle of Neighborhoods (Week 1)"
   ]
  },
  {
   "cell_type": "markdown",
   "metadata": {},
   "source": [
    "### Description of the problem"
   ]
  },
  {
   "cell_type": "markdown",
   "metadata": {},
   "source": [
    "Bubble tea, which is a popular drink in Asia, attracts more and more customers in European market in recent years. Many Bubble tea brands come to open their stores in France, especially in Paris, which is one of the top touristic destination and receive the visiters around the world each year.\n",
    "\n",
    "One well-known bubble tea brand wants to enter this potential market in Paris and looks for a good location to set up their shop. The criteria for the decision are:\n",
    "1. Not far from the center of Paris\n",
    "2. Not far from famouse attractions\n",
    "3. Having less existing bubble tea shops\n",
    "\n",
    "We will analyse which neighborhood is the best place for him to open his store."
   ]
  },
  {
   "cell_type": "markdown",
   "metadata": {},
   "source": [
    "### Description of the data"
   ]
  },
  {
   "cell_type": "markdown",
   "metadata": {},
   "source": [
    "First of all, we will searching for some popular attractions in Paris and list them down. Then, we will use Foursquare API to extract all the Bubble tea shops in Paris. After that, we will cluster those bubble tea shops according to their GPS coordationates (latitudes and longitudes) by making the attractions as their centroids. At the end, we could suggestion which cluster has the less existing shops and near which attraction."
   ]
  }
 ],
 "metadata": {
  "kernelspec": {
   "display_name": "Python 3",
   "language": "python",
   "name": "python3"
  },
  "language_info": {
   "codemirror_mode": {
    "name": "ipython",
    "version": 3
   },
   "file_extension": ".py",
   "mimetype": "text/x-python",
   "name": "python",
   "nbconvert_exporter": "python",
   "pygments_lexer": "ipython3",
   "version": "3.7.6"
  }
 },
 "nbformat": 4,
 "nbformat_minor": 4
}
